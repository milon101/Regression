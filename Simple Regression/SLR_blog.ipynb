{
 "cells": [
  {
   "cell_type": "code",
   "execution_count": 1,
   "metadata": {},
   "outputs": [],
   "source": [
    "import pandas as pd\n",
    "import matplotlib.pyplot as plt\n",
    "from sklearn.model_selection import train_test_split\n",
    "import numpy as np\n",
    "from math import sqrt\n",
    "%matplotlib inline"
   ]
  },
  {
   "cell_type": "code",
   "execution_count": 2,
   "metadata": {},
   "outputs": [
    {
     "name": "stdout",
     "output_type": "stream",
     "text": [
      "(30, 2)\n"
     ]
    },
    {
     "data": {
      "text/html": [
       "<div>\n",
       "<style scoped>\n",
       "    .dataframe tbody tr th:only-of-type {\n",
       "        vertical-align: middle;\n",
       "    }\n",
       "\n",
       "    .dataframe tbody tr th {\n",
       "        vertical-align: top;\n",
       "    }\n",
       "\n",
       "    .dataframe thead th {\n",
       "        text-align: right;\n",
       "    }\n",
       "</style>\n",
       "<table border=\"1\" class=\"dataframe\">\n",
       "  <thead>\n",
       "    <tr style=\"text-align: right;\">\n",
       "      <th></th>\n",
       "      <th>age</th>\n",
       "      <th>num_homicide_deaths</th>\n",
       "    </tr>\n",
       "  </thead>\n",
       "  <tbody>\n",
       "    <tr>\n",
       "      <th>2</th>\n",
       "      <td>23</td>\n",
       "      <td>653</td>\n",
       "    </tr>\n",
       "    <tr>\n",
       "      <th>24</th>\n",
       "      <td>45</td>\n",
       "      <td>254</td>\n",
       "    </tr>\n",
       "    <tr>\n",
       "      <th>11</th>\n",
       "      <td>32</td>\n",
       "      <td>449</td>\n",
       "    </tr>\n",
       "    <tr>\n",
       "      <th>15</th>\n",
       "      <td>36</td>\n",
       "      <td>362</td>\n",
       "    </tr>\n",
       "    <tr>\n",
       "      <th>22</th>\n",
       "      <td>43</td>\n",
       "      <td>253</td>\n",
       "    </tr>\n",
       "  </tbody>\n",
       "</table>\n",
       "</div>"
      ],
      "text/plain": [
       "    age  num_homicide_deaths\n",
       "2    23                  653\n",
       "24   45                  254\n",
       "11   32                  449\n",
       "15   36                  362\n",
       "22   43                  253"
      ]
     },
     "execution_count": 2,
     "metadata": {},
     "output_type": "execute_result"
    }
   ],
   "source": [
    "data = pd.read_csv(\"homicide.csv\")\n",
    "print(data.shape)\n",
    "age = data.age\n",
    "deaths = data.num_homicide_deaths\n",
    "age = age.values.reshape(-1,1)\n",
    "deaths = deaths.values.reshape(-1,1)\n",
    "train_data,test_data = train_test_split(data, test_size = .2)\n",
    "train_data_age = train_data.age\n",
    "train_data_deaths = train_data.num_homicide_deaths\n",
    "test_data_age = test_data.age\n",
    "test_data_deaths = test_data.num_homicide_deaths\n",
    "train_data_age = train_data_age.values.reshape(-1,1)\n",
    "train_data_deaths = train_data_deaths.values.reshape(-1,1)\n",
    "test_data_age = test_data_age.values.reshape(-1,1)\n",
    "test_data_deaths = test_data_deaths.values.reshape(-1,1)\n",
    "test_data.head()"
   ]
  },
  {
   "cell_type": "code",
   "execution_count": 3,
   "metadata": {},
   "outputs": [
    {
     "data": {
      "image/png": "[encoded data removed]",
      "text/plain": [
       "<Figure size 432x288 with 1 Axes>"
      ]
     },
     "metadata": {},
     "output_type": "display_data"
    }
   ],
   "source": [
    "plt.plot(data.age, data.num_homicide_deaths,'.')\n",
    "plt.xlabel('Age')\n",
    "plt.ylabel('US Homicide Deaths (2015)')\n",
    "plt.show()"
   ]
  },
  {
   "cell_type": "code",
   "execution_count": 4,
   "metadata": {},
   "outputs": [
    {
     "name": "stdout",
     "output_type": "stream",
     "text": [
      "983.8536498621855 -17.00173379567885\n",
      "SSt: 709936.1666666667\n",
      "RSS 39912.905365244515\n",
      "SSR 670023.2613014223\n",
      "R_squared 0.9437795857722732\n"
     ]
    },
    {
     "data": {
      "image/png": "[encoded data removed]",
      "text/plain": [
       "<Figure size 432x288 with 1 Axes>"
      ]
     },
     "metadata": {},
     "output_type": "display_data"
    }
   ],
   "source": [
    "## using closed-form solution\n",
    "def simple_linear_regression(input_feature, output):\n",
    "    # compute the sum of input_feature and output\n",
    "    input_feature_sum = input_feature.sum()\n",
    "    output_sum = output.sum()\n",
    "    input_feature_mean = input_feature.mean()\n",
    "    \n",
    "    # compute the product of the output and the input_feature and its sum\n",
    "    output_input_product = input_feature*output\n",
    "    output_input_product_sum = output_input_product.sum()\n",
    "    \n",
    "    # compute the squared value of the input_feature and its sum\n",
    "    squared_input = input_feature * input_feature\n",
    "    squared_input_sum = squared_input.sum()\n",
    "    \n",
    "    # use the formula for the slope\n",
    "    ### using closed form solution\n",
    "    slope = (output_input_product_sum-((input_feature_sum*output_sum)/len(input_feature)))/(squared_input_sum-((input_feature_sum*input_feature_sum)/len(input_feature)))\n",
    "    ### using correlation furmula\n",
    "#     slope = ((input_feature-input_feature_mean) * (output - output.mean())).sum()/((input_feature-input_feature_mean)**2).sum()\n",
    "    \n",
    "    \n",
    "    # use the formula for the intercept\n",
    "    intercept = (output_sum - (slope * input_feature_sum))/len(input_feature)\n",
    "    \n",
    "    return (intercept, slope)\n",
    "\n",
    "intercept,slope = simple_linear_regression(train_data_age, train_data_deaths)\n",
    "print(intercept, slope)\n",
    "\n",
    "def get_regression_predictions(input_feature, intercept, slope):\n",
    "    # calculate the predicted values:\n",
    "    predicted_values = intercept + (input_feature * slope)\n",
    "    \n",
    "    return predicted_values\n",
    "\n",
    "def get_residual_sum_of_squares(input_feature, output, intercept, slope):\n",
    "    # First get the predictions\n",
    "    predicted_values = intercept + (input_feature * slope)\n",
    "\n",
    "    # then compute the residuals (since we are squaring it doesn't matter which order you subtract)\n",
    "    residuals = output - predicted_values\n",
    "\n",
    "    # square the residuals and add them up\n",
    "    residuals_product = residuals * residuals\n",
    "    RSS = residuals_product.sum()\n",
    "\n",
    "    return RSS \n",
    "\n",
    "def total_sum_of_squares(output_feature):\n",
    "    SST = 0\n",
    "    error= (output_feature - output_feature.mean())**2\n",
    "    SST = error.sum()\n",
    "    return SST\n",
    "\n",
    "SST = total_sum_of_squares(deaths)\n",
    "SSE = get_residual_sum_of_squares(age, deaths, intercept, slope)\n",
    "SSR = SST - SSE\n",
    "R_squared = (SSR / (SSR + SSE))\n",
    "\n",
    "print ('SSt:',SST)\n",
    "print ('RSS', SSE)\n",
    "print ('SSR', SSR)\n",
    "print ('R_squared', R_squared)\n",
    "\n",
    "prediction_ = get_regression_predictions(test_data_age,intercept,slope)\n",
    "prediction = get_regression_predictions(age, intercept, slope)\n",
    "# print(prediction_)\n",
    "# print(test)\n",
    "# plt.plot(prediction, prediction_)\n",
    "plt.plot(age,deaths, '.')\n",
    "plt.plot(age, prediction)\n",
    "plt.xlabel('Age')\n",
    "plt.ylabel('US Homicide Deaths (2015)')\n",
    "plt.show()"
   ]
  },
  {
   "cell_type": "code",
   "execution_count": 5,
   "metadata": {},
   "outputs": [],
   "source": [
    "def get_numpy_data(data, features, output):\n",
    "    #add a constant column\n",
    "    data = data.copy()\n",
    "    data['constant'] = 1\n",
    "    features = ['constant'] + features\n",
    "    data_features = data[features]\n",
    "    feature_matrix = data_features.values\n",
    "    output_array = data[output]\n",
    "    output_matrix = output_array.values\n",
    "    return (feature_matrix, output_matrix)"
   ]
  },
  {
   "cell_type": "code",
   "execution_count": 6,
   "metadata": {},
   "outputs": [],
   "source": [
    "def predict_output(feature_matrix, weights):\n",
    "     # assume feature_matrix is a numpy matrix containing the features as columns and weights is a corresponding numpy array\n",
    "    # create the predictions vector by using np.dot()\n",
    "    predictions = np.dot(feature_matrix, weights)\n",
    "    return(predictions)"
   ]
  },
  {
   "cell_type": "code",
   "execution_count": 7,
   "metadata": {},
   "outputs": [],
   "source": [
    "def feature_derivative(errors, feature):\n",
    "    derivative = 2 * np.dot(errors, feature)\n",
    "    return derivative"
   ]
  },
  {
   "cell_type": "code",
   "execution_count": 8,
   "metadata": {},
   "outputs": [],
   "source": [
    "def regression_gradient_descent(feature_matrix, output, initial_weights, step_size, epoch):\n",
    "    weights = np.array(initial_weights) # make sure it's a numpy array\n",
    "    for i in range(epoch):\n",
    "        # compute the predictions based on feature_matrix and weights using your predict_output() function\n",
    "        predictions = predict_output(feature_matrix, weights)\n",
    "        # compute the errors as predictions - output\n",
    "        errors = predictions - output\n",
    "        gradient_sum_squares = 0 # initialize the gradient sum of squares\n",
    "        # while we haven't reached the tolerance yet, update each feature's weight\n",
    "        for i in range(len(weights)): # loop over each weight\n",
    "            # Recall that feature_matrix[:, i] is the feature column associated with weights[i]\n",
    "            # compute the derivative for weight[i]:\n",
    "            derivative = feature_derivative(errors, feature_matrix[:, i])\n",
    "            # subtract the step size times the derivative from the current weight\n",
    "            weights[i]= weights[i] - (step_size * derivative)\n",
    "            # add the squared value of the derivative to the gradient sum of squares (for assessing convergence)\n",
    "            derivative_square = derivative * derivative \n",
    "            gradient_sum_squares = derivative_square.sum()\n",
    "    return(weights)  "
   ]
  },
  {
   "cell_type": "code",
   "execution_count": 9,
   "metadata": {},
   "outputs": [
    {
     "name": "stdout",
     "output_type": "stream",
     "text": [
      "(30, 1)\n",
      "[962.90620181 -16.35699818]\n"
     ]
    },
    {
     "data": {
      "image/png": "[encoded data removed]",
      "text/plain": [
       "<Figure size 432x288 with 1 Axes>"
      ]
     },
     "metadata": {},
     "output_type": "display_data"
    },
    {
     "name": "stdout",
     "output_type": "stream",
     "text": [
      "prediction:  [586.69524357 226.84128351 439.48225991 374.05426717 259.55527988\n",
      " 504.91025264]\n",
      "prediction_sum:  2391.5385866652186\n",
      "output:  2500\n"
     ]
    }
   ],
   "source": [
    "# using gradient descent as simple regression\n",
    "simple_features = ['age']\n",
    "my_output = 'num_homicide_deaths'\n",
    "(simple_feature_matrix, output) = get_numpy_data(data, simple_features, my_output)\n",
    "initial_weights = np.array([0., 1.])\n",
    "step_size = 10e-7\n",
    "epoch = 1000000\n",
    "\n",
    "print(simple_feature_matrix[:150,[1]].shape)\n",
    "\n",
    "test_weight = regression_gradient_descent(simple_feature_matrix, output, initial_weights, step_size, epoch)\n",
    "print (test_weight)\n",
    "\n",
    "(test_simple_feature_matrix, test_output) = get_numpy_data(test_data, simple_features, my_output)\n",
    "prediction = predict_output(test_simple_feature_matrix, test_weight)\n",
    "prediction_train = predict_output(simple_feature_matrix, test_weight)\n",
    "plt.plot(simple_feature_matrix[:,[1]] , output, '.')\n",
    "plt.plot(simple_feature_matrix[:,[1]], prediction_train)\n",
    "plt.xlabel('Age')\n",
    "plt.ylabel('US Homicide Deaths in 2015')\n",
    "plt.show()\n",
    "print ('prediction: ',prediction)\n",
    "print ('prediction_sum: ',prediction.sum())\n",
    "print ('output: ',test_output.sum())"
   ]
  },
  {
   "cell_type": "code",
   "execution_count": null,
   "metadata": {},
   "outputs": [],
   "source": []
  }
 ],
 "metadata": {
  "kernelspec": {
   "display_name": "Python 3",
   "language": "python",
   "name": "python3"
  },
  "language_info": {
   "codemirror_mode": {
    "name": "ipython",
    "version": 3
   },
   "file_extension": ".py",
   "mimetype": "text/x-python",
   "name": "python",
   "nbconvert_exporter": "python",
   "pygments_lexer": "ipython3",
   "version": "3.6.5"
  }
 },
 "nbformat": 4,
 "nbformat_minor": 2
}
